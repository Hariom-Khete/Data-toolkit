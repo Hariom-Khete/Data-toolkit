{
  "cells": [
    {
      "cell_type": "markdown",
      "id": "eab58d97",
      "metadata": {
        "id": "eab58d97"
      },
      "source": [
        "# Part 1: Theory"
      ]
    },
    {
      "cell_type": "markdown",
      "id": "cf965341",
      "metadata": {
        "id": "cf965341"
      },
      "source": [
        "### 1. What is NumPy, and why is it widely used in Python\n",
        "NumPy (Numerical Python) is a fundamental library for numerical computing in Python. It provides support for arrays, matrices, and many mathematical functions. It is widely used due to its high performance, efficient memory usage, and ability to interface with C/C++ code."
      ]
    },
    {
      "cell_type": "markdown",
      "id": "3f1dca49",
      "metadata": {
        "id": "3f1dca49"
      },
      "source": [
        "### 2. How does broadcasting work in NumPy\n",
        "Broadcasting allows NumPy to perform element-wise operations on arrays of different shapes by automatically expanding their shapes to be compatible."
      ]
    },
    {
      "cell_type": "markdown",
      "id": "7fdb341e",
      "metadata": {
        "id": "7fdb341e"
      },
      "source": [
        "### 3. What is a Pandas DataFrame\n",
        "A DataFrame is a 2-dimensional labeled data structure with columns of potentially different types. It is similar to a table in SQL or Excel."
      ]
    },
    {
      "cell_type": "markdown",
      "id": "5574a100",
      "metadata": {
        "id": "5574a100"
      },
      "source": [
        "### 4. Explain the use of the groupby() method in Pandas\n",
        "`groupby()` is used to split the data into groups based on some criteria, apply a function to each group independently, and then combine the results."
      ]
    },
    {
      "cell_type": "markdown",
      "id": "2a9aabbf",
      "metadata": {
        "id": "2a9aabbf"
      },
      "source": [
        "### 5. Why is Seaborn preferred for statistical visualizations\n",
        "Seaborn provides a high-level interface for drawing attractive and informative statistical graphics, making it easier to visualize complex datasets."
      ]
    },
    {
      "cell_type": "markdown",
      "id": "a91f72fe",
      "metadata": {
        "id": "a91f72fe"
      },
      "source": [
        "### 6. What are the differences between NumPy arrays and Python lists\n",
        "- NumPy arrays are more efficient for numerical operations.\n",
        "- Arrays are homogeneous, whereas lists can contain mixed data types.\n",
        "- NumPy provides broadcasting and vectorized operations."
      ]
    },
    {
      "cell_type": "markdown",
      "id": "4292ae9f",
      "metadata": {
        "id": "4292ae9f"
      },
      "source": [
        "### 7. What is a heatmap, and when should it be used\n",
        "A heatmap is a data visualization technique that shows the magnitude of a phenomenon as color. It is used to visualize matrices or correlation matrices."
      ]
    },
    {
      "cell_type": "markdown",
      "id": "314f56bb",
      "metadata": {
        "id": "314f56bb"
      },
      "source": [
        "### 8. What does the term “vectorized operation” mean in NumPy\n",
        "Vectorized operations are operations that are applied to entire arrays rather than individual elements, leading to faster execution."
      ]
    },
    {
      "cell_type": "markdown",
      "id": "3a9c0395",
      "metadata": {
        "id": "3a9c0395"
      },
      "source": [
        "### 9. How does Matplotlib differ from Plotly\n",
        "Matplotlib is static and great for basic plots. Plotly is interactive and better for web-based visualizations."
      ]
    },
    {
      "cell_type": "markdown",
      "id": "57d12e9e",
      "metadata": {
        "id": "57d12e9e"
      },
      "source": [
        "### 10. What is the significance of hierarchical indexing in Pandas\n",
        "Hierarchical indexing allows multiple (two or more) index levels on an axis, enabling advanced data representation and operations."
      ]
    },
    {
      "cell_type": "markdown",
      "id": "7aaed74a",
      "metadata": {
        "id": "7aaed74a"
      },
      "source": [
        "### 11. What is the role of Seaborn’s pairplot() function\n",
        "It visualizes pairwise relationships in a dataset, showing scatter plots for each pair of variables and histograms for individual ones."
      ]
    },
    {
      "cell_type": "markdown",
      "id": "e2320fee",
      "metadata": {
        "id": "e2320fee"
      },
      "source": [
        "### 12. What is the purpose of the describe() function in Pandas\n",
        "It provides a summary of statistics such as mean, median, std, min, max, and percentiles for numeric columns."
      ]
    },
    {
      "cell_type": "markdown",
      "id": "3d1865ae",
      "metadata": {
        "id": "3d1865ae"
      },
      "source": [
        "### 13. Why is handling missing data important in Pandas\n",
        "Missing data can lead to incorrect analysis. Pandas provides tools to detect, remove, or fill missing values."
      ]
    },
    {
      "cell_type": "markdown",
      "id": "6c20dbc3",
      "metadata": {
        "id": "6c20dbc3"
      },
      "source": [
        "### 14. What are the benefits of using Plotly for data visualization\n",
        "Plotly provides interactive, web-ready, and publication-quality visualizations with support for 3D and dashboards."
      ]
    },
    {
      "cell_type": "markdown",
      "id": "c1f1b30e",
      "metadata": {
        "id": "c1f1b30e"
      },
      "source": [
        "### 15. How does NumPy handle multidimensional arrays\n",
        "NumPy uses `ndarray` to handle n-dimensional arrays and provides efficient indexing, slicing, and operations."
      ]
    },
    {
      "cell_type": "markdown",
      "id": "1fe82232",
      "metadata": {
        "id": "1fe82232"
      },
      "source": [
        "### 16. What is the role of Bokeh in data visualization\n",
        "Bokeh is a Python library for creating interactive and real-time streaming visualizations in web browsers."
      ]
    },
    {
      "cell_type": "markdown",
      "id": "56fb2024",
      "metadata": {
        "id": "56fb2024"
      },
      "source": [
        "### 17. Explain the difference between apply() and map() in Pandas\n",
        "- `map()` is used with Series and operates element-wise.\n",
        "- `apply()` can be used on both Series and DataFrames and can apply a function along an axis."
      ]
    },
    {
      "cell_type": "markdown",
      "id": "0f76cc75",
      "metadata": {
        "id": "0f76cc75"
      },
      "source": [
        "### 18. What are some advanced features of NumPy\n",
        "- Broadcasting\n",
        "- Memory-mapped files\n",
        "- Linear algebra and FFT\n",
        "- Masked arrays"
      ]
    },
    {
      "cell_type": "markdown",
      "id": "3ec8b37e",
      "metadata": {
        "id": "3ec8b37e"
      },
      "source": [
        "### 19. How does Pandas simplify time series analysis\n",
        "Pandas provides date range generation, resampling, shifting, and time zone handling to work with time series data."
      ]
    },
    {
      "cell_type": "markdown",
      "id": "b9cc1c31",
      "metadata": {
        "id": "b9cc1c31"
      },
      "source": [
        "### 20. What is the role of a pivot table in Pandas\n",
        "Pivot tables summarize data with aggregate functions like mean, sum, count over multiple dimensions."
      ]
    },
    {
      "cell_type": "markdown",
      "id": "a0590741",
      "metadata": {
        "id": "a0590741"
      },
      "source": [
        "### 21. Why is NumPy’s array slicing faster than Python’s list slicing\n",
        "Because NumPy arrays use a continuous block of memory and optimized C-based implementations."
      ]
    },
    {
      "cell_type": "markdown",
      "id": "52969582",
      "metadata": {
        "id": "52969582"
      },
      "source": [
        "### 22. What are some common use cases for Seaborn\n",
        "- Visualizing distribution (hist, KDE)\n",
        "- Categorical plots\n",
        "- Heatmaps and correlation matrices\n",
        "- Pairwise comparisons"
      ]
    },
    {
      "cell_type": "markdown",
      "id": "640b198c",
      "metadata": {
        "id": "640b198c"
      },
      "source": [
        "# Part 2: Practical"
      ]
    },
    {
      "cell_type": "code",
      "execution_count": null,
      "id": "8f9f2774",
      "metadata": {
        "id": "8f9f2774"
      },
      "outputs": [],
      "source": [
        "# 1 Create a 2D NumPy array and calculate the sum of each row\n",
        "import numpy as np\n",
        "arr = np.array([[1, 2, 3], [4, 5, 6]])\n",
        "row_sums = arr.sum(axis=1)\n",
        "print(row_sums)"
      ]
    },
    {
      "cell_type": "code",
      "execution_count": null,
      "id": "5791aa3a",
      "metadata": {
        "id": "5791aa3a"
      },
      "outputs": [],
      "source": [
        "# 2  Pandas script to find the mean of a specific column in a DataFrame\n",
        "import pandas as pd\n",
        "df = pd.DataFrame({'A': [1, 2, 3], 'B': [4, 5, 6]})\n",
        "mean_val = df['B'].mean()\n",
        "print(mean_val)"
      ]
    },
    {
      "cell_type": "code",
      "execution_count": null,
      "id": "26242ddb",
      "metadata": {
        "id": "26242ddb"
      },
      "outputs": [],
      "source": [
        "# 3  Create a scatter plot using Matplotlib\n",
        "import matplotlib.pyplot as plt\n",
        "x = [1, 2, 3, 4]\n",
        "y = [10, 20, 25, 30]\n",
        "plt.scatter(x, y)\n",
        "plt.show()"
      ]
    },
    {
      "cell_type": "code",
      "execution_count": null,
      "id": "e1d9edba",
      "metadata": {
        "id": "e1d9edba"
      },
      "outputs": [],
      "source": [
        "# 4 Calculate the correlation matrix and visualize it with a heatmap using Seaborn\n",
        "import seaborn as sns\n",
        "data = pd.DataFrame(np.random.rand(5, 5), columns=list('ABCDE'))\n",
        "corr = data.corr()\n",
        "sns.heatmap(corr, annot=True, cmap='coolwarm')"
      ]
    },
    {
      "cell_type": "code",
      "execution_count": null,
      "id": "e41281d0",
      "metadata": {
        "id": "e41281d0"
      },
      "outputs": [],
      "source": [
        "# 5 Generate a bar plot using Plotly\n",
        "import plotly.express as px\n",
        "df = pd.DataFrame({'x': ['A', 'B', 'C'], 'y': [10, 20, 30]})\n",
        "fig = px.bar(df, x='x', y='y')\n",
        "fig.show()"
      ]
    },
    {
      "cell_type": "code",
      "execution_count": null,
      "id": "77985ba3",
      "metadata": {
        "id": "77985ba3"
      },
      "outputs": [],
      "source": [
        "# 6 Create a DataFrame and add a new column based on an existing column\n",
        "df['C'] = df['y'] * 2\n",
        "print(df)"
      ]
    },
    {
      "cell_type": "code",
      "execution_count": null,
      "id": "c8d664ec",
      "metadata": {
        "id": "c8d664ec"
      },
      "outputs": [],
      "source": [
        "# 7 Element-wise multiplication of two NumPy arrays\n",
        "a = np.array([1, 2, 3])\n",
        "b = np.array([4, 5, 6])\n",
        "product = a * b\n",
        "print(product)"
      ]
    },
    {
      "cell_type": "code",
      "execution_count": null,
      "id": "20501f8f",
      "metadata": {
        "id": "20501f8f"
      },
      "outputs": [],
      "source": [
        "# 8 Create a line plot with multiple lines using Matplotlib\n",
        "plt.plot([1, 2, 3], [1, 4, 9], label='x^2')\n",
        "plt.plot([1, 2, 3], [1, 8, 27], label='x^3')\n",
        "plt.legend()\n",
        "plt.show()"
      ]
    },
    {
      "cell_type": "code",
      "execution_count": null,
      "id": "10739bc3",
      "metadata": {
        "id": "10739bc3"
      },
      "outputs": [],
      "source": [
        "# 9 Generate a Pandas DataFrame and filter rows where a column value is greater than a threshold\n",
        "df = pd.DataFrame({'A': [10, 20, 30, 40]})\n",
        "filtered = df[df['A'] > 25]\n",
        "print(filtered)"
      ]
    },
    {
      "cell_type": "code",
      "execution_count": null,
      "id": "55e11fbb",
      "metadata": {
        "id": "55e11fbb"
      },
      "outputs": [],
      "source": [
        "# 10 Create a histogram using Seaborn to visualize a distribution\n",
        "sns.histplot(data=df, x='A', bins=5, kde=True)"
      ]
    },
    {
      "cell_type": "code",
      "execution_count": null,
      "id": "8a28520b",
      "metadata": {
        "id": "8a28520b"
      },
      "outputs": [],
      "source": [
        "# 11 Perform matrix multiplication using NumPy\n",
        "mat1 = np.array([[1, 2], [3, 4]])\n",
        "mat2 = np.array([[5, 6], [7, 8]])\n",
        "result = np.dot(mat1, mat2)\n",
        "print(result)"
      ]
    },
    {
      "cell_type": "code",
      "execution_count": null,
      "id": "c19a2657",
      "metadata": {
        "id": "c19a2657"
      },
      "outputs": [],
      "source": [
        "# 12 Use Pandas to load a CSV file and display its first 5 rows\n",
        "df = pd.read_csv('data.csv')\n",
        "print(df.head())"
      ]
    },
    {
      "cell_type": "code",
      "execution_count": null,
      "id": "949e6980",
      "metadata": {
        "id": "949e6980"
      },
      "outputs": [],
      "source": [
        "# 13 Create a 3D scatter plot using Plotly\n",
        "import plotly.graph_objects as go\n",
        "fig = go.Figure(data=[go.Scatter3d(\n",
        "    x=[1, 2, 3], y=[4, 5, 6], z=[7, 8, 9],\n",
        "    mode='markers',\n",
        "    marker=dict(size=5)\n",
        ")])\n",
        "fig.show()"
      ]
    }
  ],
  "metadata": {
    "colab": {
      "provenance": []
    }
  },
  "nbformat": 4,
  "nbformat_minor": 5
}